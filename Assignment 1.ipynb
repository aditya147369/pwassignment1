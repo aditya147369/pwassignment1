{
 "cells": [
  {
   "cell_type": "markdown",
   "id": "ada98c9a-92f4-401c-a012-bd11bf11dca0",
   "metadata": {},
   "source": [
    "Q1. Create one variable containing following type of data:\n",
    "(i) string\n",
    "(ii) list\n",
    "(iii) float\n",
    "(iv) tuple"
   ]
  },
  {
   "cell_type": "code",
   "execution_count": 4,
   "id": "a790851c-92b8-4e61-a9f7-7567ff5568a7",
   "metadata": {},
   "outputs": [],
   "source": [
    "s = \"python\"\n",
    "l = [1,2,3,4,5]\n",
    "f = 3.14\n",
    "t = (1,2,3,4,5)"
   ]
  },
  {
   "cell_type": "markdown",
   "id": "b948256a-8ef5-4ea0-834e-cb702c994322",
   "metadata": {},
   "source": [
    "Q2. Given are some following variables containing data:\n",
    "(i) var1 = ‘ ‘\n",
    "(ii) var2 = ‘[ DS , ML , Python]’\n",
    "(iii) var3 = [ ‘DS’ , ’ML’ , ‘Python’ ]\n",
    "(iv) var4 = 1.\n",
    "What will be the data type of the above given variable."
   ]
  },
  {
   "cell_type": "markdown",
   "id": "a7cbb71f-7cac-4a34-932d-4f7c43db088a",
   "metadata": {},
   "source": [
    "Ans. var1 = str,  var2 = str, var3 = list, var4 = int "
   ]
  },
  {
   "cell_type": "markdown",
   "id": "f4464801-1784-4e04-9bf0-0b63cc45aafb",
   "metadata": {},
   "source": [
    "Q3. Explain the use of the following operators using an example:\n",
    "(i) /\n",
    "(ii) %\n",
    "(iii) //\n",
    "(iv) **"
   ]
  },
  {
   "cell_type": "code",
   "execution_count": 12,
   "id": "8c02552d-0d49-40ec-aad0-338c9b69b6db",
   "metadata": {},
   "outputs": [
    {
     "name": "stdout",
     "output_type": "stream",
     "text": [
      "2.0   3.3333333333333335   4   8\n"
     ]
    }
   ],
   "source": [
    "''' 1. / operator allows us to perform division between two integers as well as floating point numbers\n",
    "2. % operator allows us to find out remainder between two intergers as well as floating point numbers\n",
    "3. // operator known as floor division it will round down the output nearest to the whole number\n",
    "4. ** operator is used to perform exponentiation between two integers as well as float numbers '''\n",
    "\n",
    "a = 10/5\n",
    "b = 10/3\n",
    "c = 17//4\n",
    "d = 2**3\n",
    "print(a,' ',b,' ',c,' ',d)"
   ]
  },
  {
   "cell_type": "markdown",
   "id": "0aa97916-7ac4-4d98-b661-2c2669d96ad1",
   "metadata": {},
   "source": [
    "Q4. Create a list of length 10 of your choice containing multiple types of data. Using for loop print the\n",
    "element and its data type."
   ]
  },
  {
   "cell_type": "code",
   "execution_count": 14,
   "id": "07cd56d0-21c8-4ef1-83e3-191fe6d16704",
   "metadata": {},
   "outputs": [
    {
     "name": "stdout",
     "output_type": "stream",
     "text": [
      "1\n",
      "2\n",
      "3\n",
      "4\n",
      "python\n",
      "data science\n",
      "12.45\n",
      "True\n",
      "[5, 6, 7]\n",
      "(8, 9, 10)\n"
     ]
    }
   ],
   "source": [
    "lst = [1,2,3,4,\"python\",\"data science\",12.45,True,[5,6,7],(8,9,10)]\n",
    "for i in lst:\n",
    "    print(i)"
   ]
  },
  {
   "cell_type": "markdown",
   "id": "614263b3-258f-4529-a612-d852a93da141",
   "metadata": {},
   "source": [
    "Q5. Using a while loop, verify if the number A is purely divisible by number B and if so then how many\n",
    "times it can be divisible."
   ]
  },
  {
   "cell_type": "code",
   "execution_count": 4,
   "id": "972d4a3a-0994-452e-b2aa-9d8d8e42f3d5",
   "metadata": {},
   "outputs": [
    {
     "name": "stdout",
     "output_type": "stream",
     "text": [
      "it will be divisible for  1  time\n"
     ]
    }
   ],
   "source": [
    "a,b,count = 12,3,0\n",
    "\n",
    "while a%b==0:\n",
    "    count +=1\n",
    "    break\n",
    "print(\"it will be divisible for \",count,\" time\")\n",
    "    "
   ]
  },
  {
   "cell_type": "markdown",
   "id": "815930a4-c1e0-4e87-987a-b4f4693bddba",
   "metadata": {},
   "source": [
    "Q6. Create a list containing 25 int type data. Using for loop and if-else condition print if the element is\n",
    "divisible by 3 or not."
   ]
  },
  {
   "cell_type": "code",
   "execution_count": 17,
   "id": "a5c6f94e-7538-4564-b9a7-d91139bd9fb0",
   "metadata": {},
   "outputs": [
    {
     "name": "stdout",
     "output_type": "stream",
     "text": [
      "1  is not divisible by 3\n",
      "2  is not divisible by 3\n",
      "3  is divisible by 3\n",
      "4  is not divisible by 3\n",
      "5  is not divisible by 3\n",
      "6  is divisible by 3\n",
      "7  is not divisible by 3\n",
      "8  is not divisible by 3\n",
      "9  is divisible by 3\n",
      "10  is not divisible by 3\n",
      "11  is not divisible by 3\n",
      "12  is divisible by 3\n",
      "13  is not divisible by 3\n",
      "14  is not divisible by 3\n",
      "15  is divisible by 3\n",
      "16  is not divisible by 3\n",
      "17  is not divisible by 3\n",
      "18  is divisible by 3\n",
      "19  is not divisible by 3\n",
      "20  is not divisible by 3\n",
      "21  is divisible by 3\n",
      "22  is not divisible by 3\n",
      "23  is not divisible by 3\n",
      "24  is divisible by 3\n",
      "25  is not divisible by 3\n"
     ]
    }
   ],
   "source": [
    "l1 = [1,2,3,4,5,6,7,8,9,10,11,12,13,14,15,16,17,18,19,20,21,22,23,24,25]\n",
    "for i in l1:\n",
    "    if i%3 == 0:\n",
    "        print(i,\" is divisible by 3\")\n",
    "    else:\n",
    "        print(i,\" is not divisible by 3\")"
   ]
  },
  {
   "cell_type": "markdown",
   "id": "8171b4d0-73cf-4b9b-bc32-cd18a7d77c93",
   "metadata": {},
   "source": [
    "Q7. What do you understand about mutable and immutable data types? Give examples for both showing\n",
    "this property."
   ]
  },
  {
   "cell_type": "code",
   "execution_count": 21,
   "id": "87bf7350-c3df-4167-bfe7-b135b50f03a7",
   "metadata": {},
   "outputs": [
    {
     "name": "stdout",
     "output_type": "stream",
     "text": [
      "[1, 2, 10, 4, 5]\n"
     ]
    },
    {
     "ename": "TypeError",
     "evalue": "'str' object does not support item assignment",
     "output_type": "error",
     "traceback": [
      "\u001b[0;31m---------------------------------------------------------------------------\u001b[0m",
      "\u001b[0;31mTypeError\u001b[0m                                 Traceback (most recent call last)",
      "Cell \u001b[0;32mIn[21], line 9\u001b[0m\n\u001b[1;32m      7\u001b[0m \u001b[38;5;28mprint\u001b[39m(l)\n\u001b[1;32m      8\u001b[0m s \u001b[38;5;241m=\u001b[39m \u001b[38;5;124m\"\u001b[39m\u001b[38;5;124mpython\u001b[39m\u001b[38;5;124m\"\u001b[39m\n\u001b[0;32m----> 9\u001b[0m \u001b[43ms\u001b[49m\u001b[43m[\u001b[49m\u001b[38;5;241;43m2\u001b[39;49m\u001b[43m]\u001b[49m \u001b[38;5;241m=\u001b[39m \u001b[38;5;124m\"\u001b[39m\u001b[38;5;124mz\u001b[39m\u001b[38;5;124m\"\u001b[39m\n",
      "\u001b[0;31mTypeError\u001b[0m: 'str' object does not support item assignment"
     ]
    }
   ],
   "source": [
    "''' Mutable are those data types in which we can modify their specific index and immutable\n",
    "are those data types in which we can access their index but cannot modify them\n",
    "best example for mutable is list data type and immutable is string type'''\n",
    "\n",
    "l = [1,2,3,4,5]\n",
    "l[2] = 10\n",
    "print(l)\n",
    "s = \"python\"\n",
    "s[2] = \"z\""
   ]
  }
 ],
 "metadata": {
  "kernelspec": {
   "display_name": "Python 3 (ipykernel)",
   "language": "python",
   "name": "python3"
  },
  "language_info": {
   "codemirror_mode": {
    "name": "ipython",
    "version": 3
   },
   "file_extension": ".py",
   "mimetype": "text/x-python",
   "name": "python",
   "nbconvert_exporter": "python",
   "pygments_lexer": "ipython3",
   "version": "3.10.8"
  }
 },
 "nbformat": 4,
 "nbformat_minor": 5
}
